{
 "cells": [
  {
   "cell_type": "code",
   "execution_count": 1,
   "id": "bda0ce85",
   "metadata": {},
   "outputs": [],
   "source": [
    "from surprise import SVD\n",
    "from surprise import accuracy\n",
    "from surprise import Dataset, Reader\n",
    "from surprise.model_selection import train_test_split\n",
    "import pandas as pd\n",
    "\n",
    "ratings = pd.read_csv('ani_list.csv')\n",
    "ratings.to_csv('ani_surprise.csv', index=False, header=False)\n",
    "reader = Reader(rating_scale=(0, 10))"
   ]
  },
  {
   "cell_type": "code",
   "execution_count": 2,
   "id": "97b8c03e",
   "metadata": {},
   "outputs": [
    {
     "name": "stdout",
     "output_type": "stream",
     "text": [
      "RMSE: 3.0558\n"
     ]
    },
    {
     "data": {
      "text/plain": [
       "3.055832815057323"
      ]
     },
     "execution_count": 2,
     "metadata": {},
     "output_type": "execute_result"
    }
   ],
   "source": [
    "# load_from_df사용해서 데이터프레임을 데이터셋으로 로드\n",
    "# 인자에 userid-itemid-ratings 변수들이 포함된 데이터프레임형태로 넣어주면 됨!\n",
    "data = Dataset.load_from_df(ratings[['user_id','anime_id','rating']],\n",
    "                           reader=reader)\n",
    "\n",
    "train, test = train_test_split(data, test_size=0.25, random_state=42)\n",
    "\n",
    "algo = SVD(n_factors=10, random_state=42)\n",
    "algo.fit(train)\n",
    "predictions = algo.test(test)\n",
    "accuracy.rmse(predictions)"
   ]
  },
  {
   "cell_type": "code",
   "execution_count": 29,
   "id": "304a1da9",
   "metadata": {},
   "outputs": [],
   "source": [
    "#실제 평점과 예측된 평점의 차이를 RMSE로 측정한다. \n",
    "#RMSE는 오차(E)를 제곱(S)해서 평균(M)낸 값의 제곱근(R)이다. RMSE가 작을 수록 예측이 잘 된 것이다.\n",
    "pred = algo.test(test)"
   ]
  },
  {
   "cell_type": "code",
   "execution_count": 4,
   "id": "56d6f22e",
   "metadata": {},
   "outputs": [],
   "source": [
    "from surprise.dataset import DatasetAutoFolds"
   ]
  },
  {
   "cell_type": "code",
   "execution_count": 25,
   "id": "d3888332",
   "metadata": {},
   "outputs": [
    {
     "name": "stdout",
     "output_type": "stream",
     "text": [
      "user id=9인 사람은 movie id=292 대한 평점이 없음\n"
     ]
    },
    {
     "data": {
      "text/html": [
       "<div>\n",
       "<style scoped>\n",
       "    .dataframe tbody tr th:only-of-type {\n",
       "        vertical-align: middle;\n",
       "    }\n",
       "\n",
       "    .dataframe tbody tr th {\n",
       "        vertical-align: top;\n",
       "    }\n",
       "\n",
       "    .dataframe thead th {\n",
       "        text-align: right;\n",
       "    }\n",
       "</style>\n",
       "<table border=\"1\" class=\"dataframe\">\n",
       "  <thead>\n",
       "    <tr style=\"text-align: right;\">\n",
       "      <th></th>\n",
       "      <th>anime_id</th>\n",
       "      <th>Name</th>\n",
       "      <th>Score</th>\n",
       "      <th>Genres</th>\n",
       "      <th>Type</th>\n",
       "      <th>Ranked</th>\n",
       "      <th>Favorites</th>\n",
       "    </tr>\n",
       "  </thead>\n",
       "  <tbody>\n",
       "    <tr>\n",
       "      <th>268</th>\n",
       "      <td>292</td>\n",
       "      <td>Dear Boys</td>\n",
       "      <td>6.85</td>\n",
       "      <td>Drama, Shounen, Sports</td>\n",
       "      <td>TV</td>\n",
       "      <td>4240</td>\n",
       "      <td>48</td>\n",
       "    </tr>\n",
       "  </tbody>\n",
       "</table>\n",
       "</div>"
      ],
      "text/plain": [
       "     anime_id       Name Score                  Genres Type Ranked  Favorites\n",
       "268       292  Dear Boys  6.85  Drama, Shounen, Sports   TV   4240         48"
      ]
     },
     "execution_count": 25,
     "metadata": {},
     "output_type": "execute_result"
    }
   ],
   "source": [
    "reader = Reader(line_format='user item rating', sep=',',\n",
    "               rating_scale=(0, 10))\n",
    "\n",
    "# DatasetAutoFolds 클래스를 사용해서 개별적으로 생성\n",
    "# index와 header가 없는 상태로 재생성했던 ratings_surprise.csv파일에 기반\n",
    "data_folds = DatasetAutoFolds(ratings_file='ani_surprise.csv',\n",
    "                             reader=reader)\n",
    "\n",
    "# # 위에서 개별적으로 생성한 csv파일을 학습데이터로 생성\n",
    "trainset = data_folds.build_full_trainset()\n",
    "algo = SVD(random_state=42)\n",
    "algo.fit(trainset)\n",
    "\n",
    "# 영화에 대한 정보 데이터 로딩\n",
    "anime = pd.read_excel('anime1.xlsx')\n",
    "ratings = pd.read_csv('ani_list.csv',encoding='cp949')\n",
    "anime.rename(columns = {'MAL_ID':'anime_id'},inplace=True)\n",
    "\n",
    "# 데이터 확인용 줄\n",
    "# 특정 사용자 9번의 movieId를 추출해서 특정 영화에 대한 평점 있는지 확인\n",
    "aniIds = ratings[ratings['user_id'] == 9]['anime_id']\n",
    "if aniIds[aniIds == 292].count() == 0:\n",
    "    print('user id=9인 사람은 movie id=292 대한 평점이 없음')\n",
    "    \n",
    "# 영화에 대한 정보 데이터에서 movieId가 42인 영화가 무엇인지 출력\n",
    "anime[anime['anime_id'] == 292]\n",
    "\n"
   ]
  },
  {
   "cell_type": "code",
   "execution_count": 26,
   "id": "e788bf2a",
   "metadata": {},
   "outputs": [],
   "source": [
    "sample=ratings.tail(10)\n",
    "ex = ratings.tail(10).anime_id\n",
    "ex_id = ex.values"
   ]
  },
  {
   "cell_type": "code",
   "execution_count": 27,
   "id": "f53efefe",
   "metadata": {},
   "outputs": [
    {
     "data": {
      "text/plain": [
       "[5.9, 6.4, 5.1, 8.1, 7.4, 6.8, 7.1, 7.0, 6.6, 6.7]"
      ]
     },
     "execution_count": 27,
     "metadata": {},
     "output_type": "execute_result"
    }
   ],
   "source": [
    "pre = []\n",
    "for i in ex_id:\n",
    "    uid = str(3579)\n",
    "    mid = str(i)\n",
    "    pre.append(round(algo.predict(uid, mid).est,1))\n",
    "pre"
   ]
  },
  {
   "cell_type": "code",
   "execution_count": 28,
   "id": "42c4d5a5",
   "metadata": {},
   "outputs": [
    {
     "name": "stderr",
     "output_type": "stream",
     "text": [
      "C:\\Users\\user\\AppData\\Local\\Temp/ipykernel_7324/3026407135.py:1: SettingWithCopyWarning: \n",
      "A value is trying to be set on a copy of a slice from a DataFrame.\n",
      "Try using .loc[row_indexer,col_indexer] = value instead\n",
      "\n",
      "See the caveats in the documentation: https://pandas.pydata.org/pandas-docs/stable/user_guide/indexing.html#returning-a-view-versus-a-copy\n",
      "  sample['predict']=pre\n"
     ]
    },
    {
     "data": {
      "text/html": [
       "<div>\n",
       "<style scoped>\n",
       "    .dataframe tbody tr th:only-of-type {\n",
       "        vertical-align: middle;\n",
       "    }\n",
       "\n",
       "    .dataframe tbody tr th {\n",
       "        vertical-align: top;\n",
       "    }\n",
       "\n",
       "    .dataframe thead th {\n",
       "        text-align: right;\n",
       "    }\n",
       "</style>\n",
       "<table border=\"1\" class=\"dataframe\">\n",
       "  <thead>\n",
       "    <tr style=\"text-align: right;\">\n",
       "      <th></th>\n",
       "      <th>user_id</th>\n",
       "      <th>anime_id</th>\n",
       "      <th>rating</th>\n",
       "      <th>predict</th>\n",
       "    </tr>\n",
       "  </thead>\n",
       "  <tbody>\n",
       "    <tr>\n",
       "      <th>p1</th>\n",
       "      <td>3579</td>\n",
       "      <td>14829</td>\n",
       "      <td>6</td>\n",
       "      <td>5.9</td>\n",
       "    </tr>\n",
       "    <tr>\n",
       "      <th>p2</th>\n",
       "      <td>3579</td>\n",
       "      <td>12565</td>\n",
       "      <td>7</td>\n",
       "      <td>6.4</td>\n",
       "    </tr>\n",
       "    <tr>\n",
       "      <th>p3</th>\n",
       "      <td>3579</td>\n",
       "      <td>356</td>\n",
       "      <td>5</td>\n",
       "      <td>5.1</td>\n",
       "    </tr>\n",
       "    <tr>\n",
       "      <th>p4</th>\n",
       "      <td>3579</td>\n",
       "      <td>25537</td>\n",
       "      <td>9</td>\n",
       "      <td>8.1</td>\n",
       "    </tr>\n",
       "    <tr>\n",
       "      <th>p5</th>\n",
       "      <td>3579</td>\n",
       "      <td>33049</td>\n",
       "      <td>7</td>\n",
       "      <td>7.4</td>\n",
       "    </tr>\n",
       "    <tr>\n",
       "      <th>p6</th>\n",
       "      <td>3579</td>\n",
       "      <td>22297</td>\n",
       "      <td>7</td>\n",
       "      <td>6.8</td>\n",
       "    </tr>\n",
       "    <tr>\n",
       "      <th>p7</th>\n",
       "      <td>3579</td>\n",
       "      <td>28701</td>\n",
       "      <td>7</td>\n",
       "      <td>7.1</td>\n",
       "    </tr>\n",
       "    <tr>\n",
       "      <th>p8</th>\n",
       "      <td>3579</td>\n",
       "      <td>27821</td>\n",
       "      <td>6</td>\n",
       "      <td>7.0</td>\n",
       "    </tr>\n",
       "    <tr>\n",
       "      <th>p9</th>\n",
       "      <td>3579</td>\n",
       "      <td>10087</td>\n",
       "      <td>6</td>\n",
       "      <td>6.6</td>\n",
       "    </tr>\n",
       "    <tr>\n",
       "      <th>p10</th>\n",
       "      <td>3579</td>\n",
       "      <td>11741</td>\n",
       "      <td>7</td>\n",
       "      <td>6.7</td>\n",
       "    </tr>\n",
       "  </tbody>\n",
       "</table>\n",
       "</div>"
      ],
      "text/plain": [
       "     user_id  anime_id  rating  predict\n",
       "p1      3579     14829       6      5.9\n",
       "p2      3579     12565       7      6.4\n",
       "p3      3579       356       5      5.1\n",
       "p4      3579     25537       9      8.1\n",
       "p5      3579     33049       7      7.4\n",
       "p6      3579     22297       7      6.8\n",
       "p7      3579     28701       7      7.1\n",
       "p8      3579     27821       6      7.0\n",
       "p9      3579     10087       6      6.6\n",
       "p10     3579     11741       7      6.7"
      ]
     },
     "execution_count": 28,
     "metadata": {},
     "output_type": "execute_result"
    }
   ],
   "source": [
    "sample['predict']=pre\n",
    "sample.index=['p1','p2','p3','p4','p5','p6','p7','p8','p9','p10']\n",
    "sample"
   ]
  },
  {
   "cell_type": "code",
   "execution_count": 16,
   "id": "d3382740",
   "metadata": {},
   "outputs": [],
   "source": [
    "def get_unseen_surprise(ratings, anime, user_id):\n",
    "    # 특정 유저가 본 ani id들을 리스트로 할당\n",
    "    seen_anime = ratings[ratings['user_id']==user_id]['anime_id'].tolist()\n",
    "    # 모든 만화들의 ani id들 리스트로 할당\n",
    "    total_anime = anime['anime_id'].tolist()\n",
    "    \n",
    "    # 모든 영화들의 movie id들 중 특정 유저가 본 movie id를 제외한 나머지 추출\n",
    "    unseen_anime = [ani for ani in total_anime if ani not in seen_anime]\n",
    "    print(f'특정 {user_id}번 유저가 본 만화 수: {len(seen_anime)}\\n아직 안본 만화 개수: {len(unseen_anime)}\\n전체 만화수: {len(total_anime)}')\n",
    "    \n",
    "    return unseen_anime"
   ]
  },
  {
   "cell_type": "code",
   "execution_count": 17,
   "id": "a81d679a",
   "metadata": {},
   "outputs": [],
   "source": [
    "def recomm_ani(algo, user_id, unseen_anime, top_n=10):\n",
    "    # 알고리즘 객체의 predict()를 이용해 특정 userId의 평점이 없는 영화들에 대해 평점 예측\n",
    "    predictions = [algo.predict(str(user_id), str(anime_id)) for anime_id in unseen_anime]\n",
    "    \n",
    "    # predictions는 Prediction()으로 하나의 객체로 되어있기 때문에 예측평점(est값)을 기준으로 정렬해야함\n",
    "    # est값을 반환하는 함수부터 정의. 이것을 이용해 리스트를 정렬하는 sort()인자의 key값에 넣어주자!\n",
    "    def sortkey_est(pred):\n",
    "        return pred.est\n",
    "    \n",
    "    # sortkey_est함수로 리스트를 정렬하는 sort함수의 key인자에 넣어주자\n",
    "    # 리스트 sort는 디폴트값이 inplace=True인 것처럼 정렬되어 나온다. reverse=True가 내림차순\n",
    "    predictions.sort(key=sortkey_est, reverse=True)\n",
    "    # 상위 n개의 예측값들만 할당\n",
    "    top_predictions = predictions[:top_n]\n",
    "    \n",
    "    # top_predictions에서 movie id, rating, movie title 각 뽑아내기\n",
    "    top_ani_ids = [int(pred.iid) for pred in top_predictions]\n",
    "    top_ani_ratings = [pred.est for pred in top_predictions]\n",
    "    top_ani_titles = anime[anime.anime_id.isin(top_ani_ids)]['Name']\n",
    "    # 위 3가지를 튜플로 담기\n",
    "    # zip함수를 사용해서 각 자료구조(여기선 리스트)의 똑같은 위치에있는 값들을 mapping\n",
    "    # zip함수는 참고로 여러개의 문자열의 똑같은 위치들끼리 mapping도 가능!\n",
    "    top_ani_preds = [(ids, rating, title) for ids, rating, title in zip(top_ani_ids, top_ani_ratings, top_ani_titles)]\n",
    "    \n",
    "    return top_ani_preds"
   ]
  },
  {
   "cell_type": "code",
   "execution_count": 18,
   "id": "6c9edc4d",
   "metadata": {},
   "outputs": [
    {
     "name": "stdout",
     "output_type": "stream",
     "text": [
      "특정 3579번 유저가 본 만화 수: 66\n",
      "아직 안본 만화 개수: 17434\n",
      "전체 만화수: 17500\n",
      "\n",
      "--- Top-10 추천만화 리스트 ---\n",
      "Aa! Megami-sama!: Sorezore no Tsubasa : 9.16\n",
      "Hachimitsu to Clover II : 9.13\n",
      "Furiko : 9.07\n",
      "Koe no Katachi : 9.07\n",
      "One Piece Film: Gold : 9.04\n",
      "Fate/kaleid liner Prisma?낹llya 3rei!! : 8.96\n",
      "Kimi no Na wa. : 8.93\n",
      "Violet Evergarden : 8.92\n",
      "Ballroom e Youkoso : 8.91\n",
      "Ani ni Tsukeru Kusuri wa Nai! 2 : 8.85\n"
     ]
    }
   ],
   "source": [
    "# 위에서 정의한 함수를 사용해 특정 유저의 추천 영화들 출력해보기\n",
    "unseen_lst = get_unseen_surprise(ratings, anime, 3579)\n",
    "top_ani_preds = recomm_ani(algo, 3579, unseen_lst,top_n=10)\n",
    "print()\n",
    "print('-'*3,'Top-10 추천만화 리스트','-'*3)\n",
    "\n",
    "# top_movies_preds가 여러가지의 튜플을 담고 있는 리스트이기 때문에 반복문 수행\n",
    "for top_ani in top_ani_preds:\n",
    "    print(top_ani[2], \":\", round(top_ani[1],2))"
   ]
  },
  {
   "cell_type": "code",
   "execution_count": null,
   "id": "a37b7ff8",
   "metadata": {},
   "outputs": [],
   "source": []
  }
 ],
 "metadata": {
  "kernelspec": {
   "display_name": "Python 3 (ipykernel)",
   "language": "python",
   "name": "python3"
  },
  "language_info": {
   "codemirror_mode": {
    "name": "ipython",
    "version": 3
   },
   "file_extension": ".py",
   "mimetype": "text/x-python",
   "name": "python",
   "nbconvert_exporter": "python",
   "pygments_lexer": "ipython3",
   "version": "3.9.7"
  },
  "toc": {
   "base_numbering": 1,
   "nav_menu": {},
   "number_sections": true,
   "sideBar": true,
   "skip_h1_title": false,
   "title_cell": "Table of Contents",
   "title_sidebar": "Contents",
   "toc_cell": false,
   "toc_position": {},
   "toc_section_display": true,
   "toc_window_display": false
  }
 },
 "nbformat": 4,
 "nbformat_minor": 5
}
